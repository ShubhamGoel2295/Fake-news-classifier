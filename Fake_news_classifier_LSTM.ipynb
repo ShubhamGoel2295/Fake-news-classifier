{
 "cells": [
  {
   "cell_type": "code",
   "execution_count": 2,
   "metadata": {
    "colab": {
     "base_uri": "https://localhost:8080/",
     "height": 34
    },
    "colab_type": "code",
    "id": "X8b-UEPt0M9g",
    "outputId": "b3094350-3fe1-49c8-f309-69e0a88e0811"
   },
   "outputs": [
    {
     "name": "stdout",
     "output_type": "stream",
     "text": [
      "Drive already mounted at /content/drive; to attempt to forcibly remount, call drive.mount(\"/content/drive\", force_remount=True).\n"
     ]
    }
   ],
   "source": [
    "from google.colab import drive\n",
    "drive.mount('/content/drive')"
   ]
  },
  {
   "cell_type": "code",
   "execution_count": 31,
   "metadata": {
    "colab": {
     "base_uri": "https://localhost:8080/",
     "height": 34
    },
    "colab_type": "code",
    "id": "IcGSFAjm1bvc",
    "outputId": "6d7646ef-2f76-4e80-c8a4-77058689c964"
   },
   "outputs": [
    {
     "data": {
      "text/plain": [
       "'/device:GPU:0'"
      ]
     },
     "execution_count": 31,
     "metadata": {
      "tags": []
     },
     "output_type": "execute_result"
    }
   ],
   "source": [
    "import tensorflow as tf\n",
    "tf.test.gpu_device_name()"
   ]
  },
  {
   "cell_type": "markdown",
   "metadata": {
    "colab_type": "text",
    "id": "z4mXVfTf3ooL"
   },
   "source": [
    "## **Which GPU we are using**"
   ]
  },
  {
   "cell_type": "code",
   "execution_count": 3,
   "metadata": {
    "colab": {
     "base_uri": "https://localhost:8080/",
     "height": 470
    },
    "colab_type": "code",
    "id": "yhePqlZ222ko",
    "outputId": "d6da9499-6987-44bf-f738-c768bb66f892"
   },
   "outputs": [
    {
     "data": {
      "text/plain": [
       "[name: \"/device:CPU:0\"\n",
       " device_type: \"CPU\"\n",
       " memory_limit: 268435456\n",
       " locality {\n",
       " }\n",
       " incarnation: 14894475721216849806, name: \"/device:XLA_CPU:0\"\n",
       " device_type: \"XLA_CPU\"\n",
       " memory_limit: 17179869184\n",
       " locality {\n",
       " }\n",
       " incarnation: 5539015173216233833\n",
       " physical_device_desc: \"device: XLA_CPU device\", name: \"/device:XLA_GPU:0\"\n",
       " device_type: \"XLA_GPU\"\n",
       " memory_limit: 17179869184\n",
       " locality {\n",
       " }\n",
       " incarnation: 2191376810159381175\n",
       " physical_device_desc: \"device: XLA_GPU device\", name: \"/device:GPU:0\"\n",
       " device_type: \"GPU\"\n",
       " memory_limit: 14648777152\n",
       " locality {\n",
       "   bus_id: 1\n",
       "   links {\n",
       "   }\n",
       " }\n",
       " incarnation: 9406903633940455996\n",
       " physical_device_desc: \"device: 0, name: Tesla T4, pci bus id: 0000:00:04.0, compute capability: 7.5\"]"
      ]
     },
     "execution_count": 3,
     "metadata": {
      "tags": []
     },
     "output_type": "execute_result"
    }
   ],
   "source": [
    "from tensorflow.python.client import device_lib\n",
    "device_lib.list_local_devices()"
   ]
  },
  {
   "cell_type": "code",
   "execution_count": 32,
   "metadata": {
    "colab": {
     "base_uri": "https://localhost:8080/",
     "height": 34
    },
    "colab_type": "code",
    "id": "AhVindsTP8FC",
    "outputId": "01bbd0dc-39d2-42ce-cb21-2054387c6acd"
   },
   "outputs": [
    {
     "data": {
      "text/plain": [
       "'2.2.0'"
      ]
     },
     "execution_count": 32,
     "metadata": {
      "tags": []
     },
     "output_type": "execute_result"
    }
   ],
   "source": [
    "tf.__version__  #tensorflow version"
   ]
  },
  {
   "cell_type": "code",
   "execution_count": 1,
   "metadata": {
    "colab": {
     "base_uri": "https://localhost:8080/",
     "height": 806
    },
    "colab_type": "code",
    "id": "jQkDYWqE34_j",
    "outputId": "8bebd921-5aab-4220-b233-a23a796a868f"
   },
   "outputs": [
    {
     "name": "stdout",
     "output_type": "stream",
     "text": [
      "MemTotal:       13333556 kB\n",
      "MemFree:        10443040 kB\n",
      "MemAvailable:   12434480 kB\n",
      "Buffers:           75372 kB\n",
      "Cached:          2071700 kB\n",
      "SwapCached:            0 kB\n",
      "Active:           749992 kB\n",
      "Inactive:        1847436 kB\n",
      "Active(anon):     428276 kB\n",
      "Inactive(anon):      336 kB\n",
      "Active(file):     321716 kB\n",
      "Inactive(file):  1847100 kB\n",
      "Unevictable:           0 kB\n",
      "Mlocked:               0 kB\n",
      "SwapTotal:             0 kB\n",
      "SwapFree:              0 kB\n",
      "Dirty:               568 kB\n",
      "Writeback:             0 kB\n",
      "AnonPages:        450392 kB\n",
      "Mapped:           246404 kB\n",
      "Shmem:               952 kB\n",
      "Slab:             167672 kB\n",
      "SReclaimable:     127040 kB\n",
      "SUnreclaim:        40632 kB\n",
      "KernelStack:        4452 kB\n",
      "PageTables:         5940 kB\n",
      "NFS_Unstable:          0 kB\n",
      "Bounce:                0 kB\n",
      "WritebackTmp:          0 kB\n",
      "CommitLimit:     6666776 kB\n",
      "Committed_AS:    2861996 kB\n",
      "VmallocTotal:   34359738367 kB\n",
      "VmallocUsed:           0 kB\n",
      "VmallocChunk:          0 kB\n",
      "Percpu:              920 kB\n",
      "AnonHugePages:         0 kB\n",
      "ShmemHugePages:        0 kB\n",
      "ShmemPmdMapped:        0 kB\n",
      "HugePages_Total:       0\n",
      "HugePages_Free:        0\n",
      "HugePages_Rsvd:        0\n",
      "HugePages_Surp:        0\n",
      "Hugepagesize:       2048 kB\n",
      "Hugetlb:               0 kB\n",
      "DirectMap4k:      115900 kB\n",
      "DirectMap2M:     5126144 kB\n",
      "DirectMap1G:    10485760 kB\n"
     ]
    }
   ],
   "source": [
    "cat /proc/meminfo # to check RAM info "
   ]
  },
  {
   "cell_type": "code",
   "execution_count": 2,
   "metadata": {
    "colab": {
     "base_uri": "https://localhost:8080/",
     "height": 944
    },
    "colab_type": "code",
    "id": "kfjRqTc8G_Pf",
    "outputId": "95bf31ea-b375-4213-bccd-d3bddcfc154a"
   },
   "outputs": [
    {
     "name": "stdout",
     "output_type": "stream",
     "text": [
      "processor\t: 0\n",
      "vendor_id\t: GenuineIntel\n",
      "cpu family\t: 6\n",
      "model\t\t: 85\n",
      "model name\t: Intel(R) Xeon(R) CPU @ 2.00GHz\n",
      "stepping\t: 3\n",
      "microcode\t: 0x1\n",
      "cpu MHz\t\t: 2000.140\n",
      "cache size\t: 39424 KB\n",
      "physical id\t: 0\n",
      "siblings\t: 2\n",
      "core id\t\t: 0\n",
      "cpu cores\t: 1\n",
      "apicid\t\t: 0\n",
      "initial apicid\t: 0\n",
      "fpu\t\t: yes\n",
      "fpu_exception\t: yes\n",
      "cpuid level\t: 13\n",
      "wp\t\t: yes\n",
      "flags\t\t: fpu vme de pse tsc msr pae mce cx8 apic sep mtrr pge mca cmov pat pse36 clflush mmx fxsr sse sse2 ss ht syscall nx pdpe1gb rdtscp lm constant_tsc rep_good nopl xtopology nonstop_tsc cpuid tsc_known_freq pni pclmulqdq ssse3 fma cx16 pcid sse4_1 sse4_2 x2apic movbe popcnt aes xsave avx f16c rdrand hypervisor lahf_lm abm 3dnowprefetch invpcid_single ssbd ibrs ibpb stibp fsgsbase tsc_adjust bmi1 hle avx2 smep bmi2 erms invpcid rtm mpx avx512f avx512dq rdseed adx smap clflushopt clwb avx512cd avx512bw avx512vl xsaveopt xsavec xgetbv1 xsaves arat md_clear arch_capabilities\n",
      "bugs\t\t: cpu_meltdown spectre_v1 spectre_v2 spec_store_bypass l1tf mds swapgs taa itlb_multihit\n",
      "bogomips\t: 4000.28\n",
      "clflush size\t: 64\n",
      "cache_alignment\t: 64\n",
      "address sizes\t: 46 bits physical, 48 bits virtual\n",
      "power management:\n",
      "\n",
      "processor\t: 1\n",
      "vendor_id\t: GenuineIntel\n",
      "cpu family\t: 6\n",
      "model\t\t: 85\n",
      "model name\t: Intel(R) Xeon(R) CPU @ 2.00GHz\n",
      "stepping\t: 3\n",
      "microcode\t: 0x1\n",
      "cpu MHz\t\t: 2000.140\n",
      "cache size\t: 39424 KB\n",
      "physical id\t: 0\n",
      "siblings\t: 2\n",
      "core id\t\t: 0\n",
      "cpu cores\t: 1\n",
      "apicid\t\t: 1\n",
      "initial apicid\t: 1\n",
      "fpu\t\t: yes\n",
      "fpu_exception\t: yes\n",
      "cpuid level\t: 13\n",
      "wp\t\t: yes\n",
      "flags\t\t: fpu vme de pse tsc msr pae mce cx8 apic sep mtrr pge mca cmov pat pse36 clflush mmx fxsr sse sse2 ss ht syscall nx pdpe1gb rdtscp lm constant_tsc rep_good nopl xtopology nonstop_tsc cpuid tsc_known_freq pni pclmulqdq ssse3 fma cx16 pcid sse4_1 sse4_2 x2apic movbe popcnt aes xsave avx f16c rdrand hypervisor lahf_lm abm 3dnowprefetch invpcid_single ssbd ibrs ibpb stibp fsgsbase tsc_adjust bmi1 hle avx2 smep bmi2 erms invpcid rtm mpx avx512f avx512dq rdseed adx smap clflushopt clwb avx512cd avx512bw avx512vl xsaveopt xsavec xgetbv1 xsaves arat md_clear arch_capabilities\n",
      "bugs\t\t: cpu_meltdown spectre_v1 spectre_v2 spec_store_bypass l1tf mds swapgs taa itlb_multihit\n",
      "bogomips\t: 4000.28\n",
      "clflush size\t: 64\n",
      "cache_alignment\t: 64\n",
      "address sizes\t: 46 bits physical, 48 bits virtual\n",
      "power management:\n",
      "\n"
     ]
    }
   ],
   "source": [
    "cat /proc/cpuinfo"
   ]
  },
  {
   "cell_type": "code",
   "execution_count": 3,
   "metadata": {
    "colab": {
     "base_uri": "https://localhost:8080/",
     "height": 151
    },
    "colab_type": "code",
    "id": "VoaDfjpSHMo4",
    "outputId": "d479d174-5ee8-44b8-bd08-f9c7de26c098"
   },
   "outputs": [
    {
     "name": "stdout",
     "output_type": "stream",
     "text": [
      "Requirement already satisfied: keras in /usr/local/lib/python3.6/dist-packages (2.3.1)\n",
      "Requirement already satisfied: scipy>=0.14 in /usr/local/lib/python3.6/dist-packages (from keras) (1.4.1)\n",
      "Requirement already satisfied: keras-preprocessing>=1.0.5 in /usr/local/lib/python3.6/dist-packages (from keras) (1.1.2)\n",
      "Requirement already satisfied: pyyaml in /usr/local/lib/python3.6/dist-packages (from keras) (3.13)\n",
      "Requirement already satisfied: numpy>=1.9.1 in /usr/local/lib/python3.6/dist-packages (from keras) (1.18.4)\n",
      "Requirement already satisfied: six>=1.9.0 in /usr/local/lib/python3.6/dist-packages (from keras) (1.12.0)\n",
      "Requirement already satisfied: h5py in /usr/local/lib/python3.6/dist-packages (from keras) (2.10.0)\n",
      "Requirement already satisfied: keras-applications>=1.0.6 in /usr/local/lib/python3.6/dist-packages (from keras) (1.0.8)\n"
     ]
    }
   ],
   "source": [
    "pip install keras"
   ]
  },
  {
   "cell_type": "code",
   "execution_count": 0,
   "metadata": {
    "colab": {},
    "colab_type": "code",
    "id": "xAk9yXG_ID0D"
   },
   "outputs": [],
   "source": [
    "import keras\n",
    "import pandas as pd\n",
    "import numpy as np\n",
    "import matplotlib.pyplot as plt\n",
    "import seaborn as sns\n",
    "from tensorflow.keras.layers import Embedding\n",
    "from tensorflow.keras.preprocessing.sequence import pad_sequences\n",
    "from tensorflow.keras.models import Sequential\n",
    "from tensorflow.keras.preprocessing.text import one_hot\n",
    "from tensorflow.keras.layers import LSTM\n",
    "from tensorflow.keras.layers import Dense"
   ]
  },
  {
   "cell_type": "code",
   "execution_count": 10,
   "metadata": {
    "colab": {
     "base_uri": "https://localhost:8080/",
     "height": 195
    },
    "colab_type": "code",
    "id": "ERUXr4OzJcdZ",
    "outputId": "4624bcde-ad36-4ab7-85cb-582fb8a2c994"
   },
   "outputs": [
    {
     "data": {
      "text/html": [
       "<div>\n",
       "<style scoped>\n",
       "    .dataframe tbody tr th:only-of-type {\n",
       "        vertical-align: middle;\n",
       "    }\n",
       "\n",
       "    .dataframe tbody tr th {\n",
       "        vertical-align: top;\n",
       "    }\n",
       "\n",
       "    .dataframe thead th {\n",
       "        text-align: right;\n",
       "    }\n",
       "</style>\n",
       "<table border=\"1\" class=\"dataframe\">\n",
       "  <thead>\n",
       "    <tr style=\"text-align: right;\">\n",
       "      <th></th>\n",
       "      <th>id</th>\n",
       "      <th>title</th>\n",
       "      <th>author</th>\n",
       "      <th>text</th>\n",
       "      <th>label</th>\n",
       "    </tr>\n",
       "  </thead>\n",
       "  <tbody>\n",
       "    <tr>\n",
       "      <th>0</th>\n",
       "      <td>0</td>\n",
       "      <td>House Dem Aide: We Didn’t Even See Comey’s Let...</td>\n",
       "      <td>Darrell Lucus</td>\n",
       "      <td>House Dem Aide: We Didn’t Even See Comey’s Let...</td>\n",
       "      <td>1</td>\n",
       "    </tr>\n",
       "    <tr>\n",
       "      <th>1</th>\n",
       "      <td>1</td>\n",
       "      <td>FLYNN: Hillary Clinton, Big Woman on Campus - ...</td>\n",
       "      <td>Daniel J. Flynn</td>\n",
       "      <td>Ever get the feeling your life circles the rou...</td>\n",
       "      <td>0</td>\n",
       "    </tr>\n",
       "    <tr>\n",
       "      <th>2</th>\n",
       "      <td>2</td>\n",
       "      <td>Why the Truth Might Get You Fired</td>\n",
       "      <td>Consortiumnews.com</td>\n",
       "      <td>Why the Truth Might Get You Fired October 29, ...</td>\n",
       "      <td>1</td>\n",
       "    </tr>\n",
       "    <tr>\n",
       "      <th>3</th>\n",
       "      <td>3</td>\n",
       "      <td>15 Civilians Killed In Single US Airstrike Hav...</td>\n",
       "      <td>Jessica Purkiss</td>\n",
       "      <td>Videos 15 Civilians Killed In Single US Airstr...</td>\n",
       "      <td>1</td>\n",
       "    </tr>\n",
       "    <tr>\n",
       "      <th>4</th>\n",
       "      <td>4</td>\n",
       "      <td>Iranian woman jailed for fictional unpublished...</td>\n",
       "      <td>Howard Portnoy</td>\n",
       "      <td>Print \\nAn Iranian woman has been sentenced to...</td>\n",
       "      <td>1</td>\n",
       "    </tr>\n",
       "  </tbody>\n",
       "</table>\n",
       "</div>"
      ],
      "text/plain": [
       "   id  ... label\n",
       "0   0  ...     1\n",
       "1   1  ...     0\n",
       "2   2  ...     1\n",
       "3   3  ...     1\n",
       "4   4  ...     1\n",
       "\n",
       "[5 rows x 5 columns]"
      ]
     },
     "execution_count": 10,
     "metadata": {
      "tags": []
     },
     "output_type": "execute_result"
    }
   ],
   "source": [
    "dataset= pd.read_csv('/content/drive/My Drive/Fake-News Classifier/train.csv') #importing file from drive \n",
    "dataset.head()"
   ]
  },
  {
   "cell_type": "code",
   "execution_count": 11,
   "metadata": {
    "colab": {
     "base_uri": "https://localhost:8080/",
     "height": 218
    },
    "colab_type": "code",
    "id": "ScAt6ifJJw-v",
    "outputId": "99f2a130-512f-4feb-97b3-f844a175ee0c"
   },
   "outputs": [
    {
     "name": "stdout",
     "output_type": "stream",
     "text": [
      "<class 'pandas.core.frame.DataFrame'>\n",
      "RangeIndex: 20800 entries, 0 to 20799\n",
      "Data columns (total 5 columns):\n",
      " #   Column  Non-Null Count  Dtype \n",
      "---  ------  --------------  ----- \n",
      " 0   id      20800 non-null  int64 \n",
      " 1   title   20242 non-null  object\n",
      " 2   author  18843 non-null  object\n",
      " 3   text    20761 non-null  object\n",
      " 4   label   20800 non-null  int64 \n",
      "dtypes: int64(2), object(3)\n",
      "memory usage: 812.6+ KB\n"
     ]
    }
   ],
   "source": [
    "dataset.info()"
   ]
  },
  {
   "cell_type": "code",
   "execution_count": 0,
   "metadata": {
    "colab": {},
    "colab_type": "code",
    "id": "z8Kp--tAKNrv"
   },
   "outputs": [],
   "source": [
    "from sklearn.feature_extraction.text import CountVectorizer, TfidfVectorizer, HashingVectorizer"
   ]
  },
  {
   "cell_type": "code",
   "execution_count": 16,
   "metadata": {
    "colab": {
     "base_uri": "https://localhost:8080/",
     "height": 136
    },
    "colab_type": "code",
    "id": "ODFM8DHNNN4N",
    "outputId": "3acf71f5-6850-42ae-ac33-8ac6115a4a59"
   },
   "outputs": [
    {
     "data": {
      "text/html": [
       "<div>\n",
       "<style scoped>\n",
       "    .dataframe tbody tr th:only-of-type {\n",
       "        vertical-align: middle;\n",
       "    }\n",
       "\n",
       "    .dataframe tbody tr th {\n",
       "        vertical-align: top;\n",
       "    }\n",
       "\n",
       "    .dataframe thead th {\n",
       "        text-align: right;\n",
       "    }\n",
       "</style>\n",
       "<table border=\"1\" class=\"dataframe\">\n",
       "  <thead>\n",
       "    <tr style=\"text-align: right;\">\n",
       "      <th></th>\n",
       "      <th>id</th>\n",
       "      <th>title</th>\n",
       "      <th>author</th>\n",
       "      <th>text</th>\n",
       "      <th>label</th>\n",
       "    </tr>\n",
       "  </thead>\n",
       "  <tbody>\n",
       "    <tr>\n",
       "      <th>column type</th>\n",
       "      <td>int64</td>\n",
       "      <td>object</td>\n",
       "      <td>object</td>\n",
       "      <td>object</td>\n",
       "      <td>int64</td>\n",
       "    </tr>\n",
       "    <tr>\n",
       "      <th>null values</th>\n",
       "      <td>0</td>\n",
       "      <td>558</td>\n",
       "      <td>1957</td>\n",
       "      <td>39</td>\n",
       "      <td>0</td>\n",
       "    </tr>\n",
       "    <tr>\n",
       "      <th>null values in %</th>\n",
       "      <td>0</td>\n",
       "      <td>2.68269</td>\n",
       "      <td>9.40865</td>\n",
       "      <td>0.1875</td>\n",
       "      <td>0</td>\n",
       "    </tr>\n",
       "  </tbody>\n",
       "</table>\n",
       "</div>"
      ],
      "text/plain": [
       "                     id    title   author    text  label\n",
       "column type       int64   object   object  object  int64\n",
       "null values           0      558     1957      39      0\n",
       "null values in %      0  2.68269  9.40865  0.1875      0"
      ]
     },
     "execution_count": 16,
     "metadata": {
      "tags": []
     },
     "output_type": "execute_result"
    }
   ],
   "source": [
    "# checking null values in %\n",
    "tab_info= pd.DataFrame(dataset.dtypes).T.rename(index= {0: 'column type'})\n",
    "#print(tab_info)\n",
    "tab_info= tab_info.append(pd.DataFrame(dataset.isnull().sum()).T.rename(index= {0:'null values'}))\n",
    "tab_info= tab_info.append(pd.DataFrame((dataset.isnull().sum()/dataset.shape[0])*100).T.rename(index= {0:'null values in %'}))\n",
    "tab_info"
   ]
  },
  {
   "cell_type": "code",
   "execution_count": 17,
   "metadata": {
    "colab": {
     "base_uri": "https://localhost:8080/",
     "height": 34
    },
    "colab_type": "code",
    "id": "4HM94YqONnX6",
    "outputId": "a5b65169-cd13-4f21-f06e-de5688f825ea"
   },
   "outputs": [
    {
     "data": {
      "text/plain": [
       "(18285, 5)"
      ]
     },
     "execution_count": 17,
     "metadata": {
      "tags": []
     },
     "output_type": "execute_result"
    }
   ],
   "source": [
    "dataset= dataset.dropna()\n",
    "dataset.shape"
   ]
  },
  {
   "cell_type": "code",
   "execution_count": 18,
   "metadata": {
    "colab": {
     "base_uri": "https://localhost:8080/",
     "height": 195
    },
    "colab_type": "code",
    "id": "i2W7ajLGN7Ck",
    "outputId": "81b412cb-59e3-455e-da7c-328fff0c0427"
   },
   "outputs": [
    {
     "data": {
      "text/html": [
       "<div>\n",
       "<style scoped>\n",
       "    .dataframe tbody tr th:only-of-type {\n",
       "        vertical-align: middle;\n",
       "    }\n",
       "\n",
       "    .dataframe tbody tr th {\n",
       "        vertical-align: top;\n",
       "    }\n",
       "\n",
       "    .dataframe thead th {\n",
       "        text-align: right;\n",
       "    }\n",
       "</style>\n",
       "<table border=\"1\" class=\"dataframe\">\n",
       "  <thead>\n",
       "    <tr style=\"text-align: right;\">\n",
       "      <th></th>\n",
       "      <th>id</th>\n",
       "      <th>title</th>\n",
       "      <th>author</th>\n",
       "      <th>text</th>\n",
       "      <th>label</th>\n",
       "    </tr>\n",
       "  </thead>\n",
       "  <tbody>\n",
       "    <tr>\n",
       "      <th>0</th>\n",
       "      <td>0</td>\n",
       "      <td>House Dem Aide: We Didn’t Even See Comey’s Let...</td>\n",
       "      <td>Darrell Lucus</td>\n",
       "      <td>House Dem Aide: We Didn’t Even See Comey’s Let...</td>\n",
       "      <td>1</td>\n",
       "    </tr>\n",
       "    <tr>\n",
       "      <th>1</th>\n",
       "      <td>1</td>\n",
       "      <td>FLYNN: Hillary Clinton, Big Woman on Campus - ...</td>\n",
       "      <td>Daniel J. Flynn</td>\n",
       "      <td>Ever get the feeling your life circles the rou...</td>\n",
       "      <td>0</td>\n",
       "    </tr>\n",
       "    <tr>\n",
       "      <th>2</th>\n",
       "      <td>2</td>\n",
       "      <td>Why the Truth Might Get You Fired</td>\n",
       "      <td>Consortiumnews.com</td>\n",
       "      <td>Why the Truth Might Get You Fired October 29, ...</td>\n",
       "      <td>1</td>\n",
       "    </tr>\n",
       "    <tr>\n",
       "      <th>3</th>\n",
       "      <td>3</td>\n",
       "      <td>15 Civilians Killed In Single US Airstrike Hav...</td>\n",
       "      <td>Jessica Purkiss</td>\n",
       "      <td>Videos 15 Civilians Killed In Single US Airstr...</td>\n",
       "      <td>1</td>\n",
       "    </tr>\n",
       "    <tr>\n",
       "      <th>4</th>\n",
       "      <td>4</td>\n",
       "      <td>Iranian woman jailed for fictional unpublished...</td>\n",
       "      <td>Howard Portnoy</td>\n",
       "      <td>Print \\nAn Iranian woman has been sentenced to...</td>\n",
       "      <td>1</td>\n",
       "    </tr>\n",
       "  </tbody>\n",
       "</table>\n",
       "</div>"
      ],
      "text/plain": [
       "   id  ... label\n",
       "0   0  ...     1\n",
       "1   1  ...     0\n",
       "2   2  ...     1\n",
       "3   3  ...     1\n",
       "4   4  ...     1\n",
       "\n",
       "[5 rows x 5 columns]"
      ]
     },
     "execution_count": 18,
     "metadata": {
      "tags": []
     },
     "output_type": "execute_result"
    }
   ],
   "source": [
    "messages= dataset.copy()\n",
    "messages= messages.reset_index(drop=True)\n",
    "messages.head()"
   ]
  },
  {
   "cell_type": "code",
   "execution_count": 19,
   "metadata": {
    "colab": {
     "base_uri": "https://localhost:8080/",
     "height": 101
    },
    "colab_type": "code",
    "id": "dvisvwr8OHqp",
    "outputId": "db65e9df-113a-4994-ac68-7921bfdc96d6"
   },
   "outputs": [
    {
     "data": {
      "text/plain": [
       "1    FLYNN: Hillary Clinton, Big Woman on Campus - ...\n",
       "2                    Why the Truth Might Get You Fired\n",
       "3    15 Civilians Killed In Single US Airstrike Hav...\n",
       "4    Iranian woman jailed for fictional unpublished...\n",
       "Name: title, dtype: object"
      ]
     },
     "execution_count": 19,
     "metadata": {
      "tags": []
     },
     "output_type": "execute_result"
    }
   ],
   "source": [
    "messages.title[1:5]"
   ]
  },
  {
   "cell_type": "code",
   "execution_count": 23,
   "metadata": {
    "colab": {
     "base_uri": "https://localhost:8080/",
     "height": 50
    },
    "colab_type": "code",
    "id": "tkdhfTIQOMxG",
    "outputId": "8d34bca6-837e-4c4e-ddc7-14c3f55e31e6"
   },
   "outputs": [
    {
     "name": "stdout",
     "output_type": "stream",
     "text": [
      "[nltk_data] Downloading package stopwords to /root/nltk_data...\n",
      "[nltk_data]   Package stopwords is already up-to-date!\n"
     ]
    }
   ],
   "source": [
    "# classification will be based on title\n",
    "import nltk\n",
    "nltk.download('stopwords')\n",
    "from nltk.corpus import stopwords\n",
    "from nltk.stem.porter import PorterStemmer\n",
    "import re\n",
    "corpus= []\n",
    "ps= PorterStemmer()\n",
    "for i in range(0,len(messages)):\n",
    "    review= re.sub('[^a-zA-Z]',' ',messages['title'][i])\n",
    "    review= review.lower()\n",
    "    review= review.split()\n",
    "    review= [ps.stem(word) for word in review if not word in stopwords.words('english')]\n",
    "    review= ' '.join(review)\n",
    "    corpus.append(review)"
   ]
  },
  {
   "cell_type": "code",
   "execution_count": 27,
   "metadata": {
    "colab": {
     "base_uri": "https://localhost:8080/",
     "height": 202
    },
    "colab_type": "code",
    "id": "TUxT3mgnOTGx",
    "outputId": "1720f992-862b-41f5-e8f0-cb8c5de7c674"
   },
   "outputs": [
    {
     "name": "stdout",
     "output_type": "stream",
     "text": [
      "18285\n"
     ]
    },
    {
     "data": {
      "text/plain": [
       "['hous dem aid even see comey letter jason chaffetz tweet',\n",
       " 'flynn hillari clinton big woman campu breitbart',\n",
       " 'truth might get fire',\n",
       " 'civilian kill singl us airstrik identifi',\n",
       " 'iranian woman jail fiction unpublish stori woman stone death adulteri',\n",
       " 'jacki mason hollywood would love trump bomb north korea lack tran bathroom exclus video breitbart',\n",
       " 'beno hamon win french socialist parti presidenti nomin new york time',\n",
       " 'back channel plan ukrain russia courtesi trump associ new york time',\n",
       " 'obama organ action partner soro link indivis disrupt trump agenda',\n",
       " 'bbc comedi sketch real housew isi caus outrag']"
      ]
     },
     "execution_count": 27,
     "metadata": {
      "tags": []
     },
     "output_type": "execute_result"
    }
   ],
   "source": [
    "print(len(corpus)) # List conatining sentences\n",
    "corpus[:10]"
   ]
  },
  {
   "cell_type": "code",
   "execution_count": 28,
   "metadata": {
    "colab": {
     "base_uri": "https://localhost:8080/",
     "height": 218
    },
    "colab_type": "code",
    "id": "c14zhAogOwg0",
    "outputId": "6f46fd35-302b-4e73-833a-eb6fb923770f"
   },
   "outputs": [
    {
     "name": "stdout",
     "output_type": "stream",
     "text": [
      "(18285,)\n"
     ]
    },
    {
     "data": {
      "text/plain": [
       "0    hous dem aid even see comey letter jason chaff...\n",
       "1      flynn hillari clinton big woman campu breitbart\n",
       "2                                 truth might get fire\n",
       "3             civilian kill singl us airstrik identifi\n",
       "4    iranian woman jail fiction unpublish stori wom...\n",
       "5    jacki mason hollywood would love trump bomb no...\n",
       "6    beno hamon win french socialist parti presiden...\n",
       "7    back channel plan ukrain russia courtesi trump...\n",
       "8    obama organ action partner soro link indivis d...\n",
       "9        bbc comedi sketch real housew isi caus outrag\n",
       "dtype: object"
      ]
     },
     "execution_count": 28,
     "metadata": {
      "tags": []
     },
     "output_type": "execute_result"
    }
   ],
   "source": [
    "corpus_df= pd.Series(corpus) # converting into series\n",
    "print(corpus_df.shape)\n",
    "corpus_df[:10]"
   ]
  },
  {
   "cell_type": "code",
   "execution_count": 0,
   "metadata": {
    "colab": {},
    "colab_type": "code",
    "id": "fiFBp9wzPFdV"
   },
   "outputs": [],
   "source": [
    "# Target variable\n",
    "y= dataset.label"
   ]
  },
  {
   "cell_type": "code",
   "execution_count": 0,
   "metadata": {
    "colab": {},
    "colab_type": "code",
    "id": "ma8EDMoGPHxH"
   },
   "outputs": [],
   "source": [
    "\n",
    "### Vocabulary size\n",
    "voc_size=5000"
   ]
  },
  {
   "cell_type": "code",
   "execution_count": 37,
   "metadata": {
    "colab": {
     "base_uri": "https://localhost:8080/",
     "height": 605
    },
    "colab_type": "code",
    "id": "4beiAoVSQk8-",
    "outputId": "1353ea8e-054f-412e-ba5d-333a4bd2a13d"
   },
   "outputs": [
    {
     "name": "stdout",
     "output_type": "stream",
     "text": [
      "<class 'list'>\n"
     ]
    },
    {
     "data": {
      "text/plain": [
       "[[3455, 685, 2824, 1409, 1980, 3894, 482, 3076, 2445, 833],\n",
       " [4479, 1980, 3442, 3554, 1747, 4854, 3646],\n",
       " [4645, 1519, 2859, 2197],\n",
       " [3728, 2239, 1726, 1425, 1411, 2286],\n",
       " [3931, 1747, 1952, 2357, 1108, 3688, 1747, 729, 3257, 3236],\n",
       " [1697,\n",
       "  1127,\n",
       "  3942,\n",
       "  4875,\n",
       "  637,\n",
       "  2062,\n",
       "  4377,\n",
       "  3873,\n",
       "  4124,\n",
       "  784,\n",
       "  54,\n",
       "  3206,\n",
       "  4737,\n",
       "  2924,\n",
       "  3646],\n",
       " [4657, 2880, 1642, 4710, 2581, 4727, 2857, 4744, 3984, 2982, 4532],\n",
       " [1088, 3200, 3330, 508, 3040, 667, 2062, 4494, 3984, 2982, 4532],\n",
       " [3250, 1602, 4541, 2766, 1983, 748, 4958, 1599, 2062, 982],\n",
       " [3529, 1672, 4745, 323, 2381, 2430, 2645, 4353],\n",
       " [2975, 4340, 1451, 4337, 4754, 4813, 1682, 932, 107, 3056, 1197],\n",
       " [1425, 4121, 1980, 748, 2062, 3040],\n",
       " [4050, 3733, 2112, 3691, 2008, 4748, 4699, 4946, 2149],\n",
       " [2031, 3837, 4373, 2653, 1657, 1137, 3660, 3984, 2982, 4532],\n",
       " [1428, 2708, 900, 3087, 4368, 3984, 2982, 4532],\n",
       " [2567, 1106, 2915, 1553, 1404, 969, 2474, 1037, 1007, 1454],\n",
       " [58, 4664, 1980],\n",
       " [646, 507, 2975, 3014, 2062, 4674, 2209, 3646],\n",
       " [2184, 1676, 3442, 1183, 2120, 2384, 4213, 16, 3688],\n",
       " [3407, 3945, 2062, 659, 3838, 3646]]"
      ]
     },
     "execution_count": 37,
     "metadata": {
      "tags": []
     },
     "output_type": "execute_result"
    }
   ],
   "source": [
    "onehot_repr= [one_hot(words, voc_size) for words in corpus]\n",
    "print(type(onehot_repr)) #list type\n",
    "onehot_repr[:20]  # will fetch index for each word fron vocablary size. below fetched first 20 "
   ]
  },
  {
   "cell_type": "markdown",
   "metadata": {
    "colab_type": "text",
    "id": "zqQs1F2RTan6"
   },
   "source": [
    "**# Embedding Representation**"
   ]
  },
  {
   "cell_type": "code",
   "execution_count": 38,
   "metadata": {
    "colab": {
     "base_uri": "https://localhost:8080/",
     "height": 151
    },
    "colab_type": "code",
    "id": "0uIxkMhnTnYb",
    "outputId": "3e6098c7-05b2-49b7-c9c9-ed9bf488c85a"
   },
   "outputs": [
    {
     "name": "stdout",
     "output_type": "stream",
     "text": [
      "<class 'numpy.ndarray'>\n",
      "[[   0    0    0 ... 3076 2445  833]\n",
      " [   0    0    0 ... 1747 4854 3646]\n",
      " [   0    0    0 ... 1519 2859 2197]\n",
      " ...\n",
      " [   0    0    0 ... 3984 2982 4532]\n",
      " [   0    0    0 ...  613 3585 4168]\n",
      " [   0    0    0 ... 4180 3630 4992]]\n"
     ]
    }
   ],
   "source": [
    "sent_length= 20 # taking this value to maintain each sentence length to 20\n",
    "embedded_docs= pad_sequences(onehot_repr, padding='pre', maxlen=sent_length) # order shud be same, use padding pre post to fill 0's\n",
    "print(type(embedded_docs))\n",
    "print(embedded_docs) # will convert to same length"
   ]
  },
  {
   "cell_type": "code",
   "execution_count": 39,
   "metadata": {
    "colab": {
     "base_uri": "https://localhost:8080/",
     "height": 50
    },
    "colab_type": "code",
    "id": "J-X1KbFdUe53",
    "outputId": "a637356d-964e-48d5-bdc2-42d3288f3b6a"
   },
   "outputs": [
    {
     "data": {
      "text/plain": [
       "array([   0,    0,    0,    0,    0,    0,    0,    0,    0,    0, 3455,\n",
       "        685, 2824, 1409, 1980, 3894,  482, 3076, 2445,  833], dtype=int32)"
      ]
     },
     "execution_count": 39,
     "metadata": {
      "tags": []
     },
     "output_type": "execute_result"
    }
   ],
   "source": [
    "embedded_docs[0]"
   ]
  },
  {
   "cell_type": "code",
   "execution_count": 40,
   "metadata": {
    "colab": {
     "base_uri": "https://localhost:8080/",
     "height": 269
    },
    "colab_type": "code",
    "id": "Yd1N8P4FVIOX",
    "outputId": "f452ba9d-d119-471b-eaaf-528310708818"
   },
   "outputs": [
    {
     "name": "stdout",
     "output_type": "stream",
     "text": [
      "Model: \"sequential\"\n",
      "_________________________________________________________________\n",
      "Layer (type)                 Output Shape              Param #   \n",
      "=================================================================\n",
      "embedding (Embedding)        (None, 20, 40)            200000    \n",
      "_________________________________________________________________\n",
      "lstm (LSTM)                  (None, 100)               56400     \n",
      "_________________________________________________________________\n",
      "dense (Dense)                (None, 1)                 101       \n",
      "=================================================================\n",
      "Total params: 256,501\n",
      "Trainable params: 256,501\n",
      "Non-trainable params: 0\n",
      "_________________________________________________________________\n",
      "None\n"
     ]
    }
   ],
   "source": [
    "## creating model\n",
    "embedding_features_value= 40\n",
    "model=Sequential()\n",
    "model.add(Embedding(voc_size, embedding_features_value, input_length=sent_length)) #always be first layer in NN for embedding\n",
    "model.add(LSTM(100)) #using 1 LSTM layer containing 100 neurons\n",
    "model.add(Dense(1, activation='sigmoid')) # last layer to predict o/p 0 or 1\n",
    "model.compile(loss='binary_crossentropy', optimizer= 'adam', metrics= ['accuracy']) # which will compile with backprop. and update weights\n",
    "print(model.summary())"
   ]
  },
  {
   "cell_type": "code",
   "execution_count": 49,
   "metadata": {
    "colab": {
     "base_uri": "https://localhost:8080/",
     "height": 118
    },
    "colab_type": "code",
    "id": "6I8WGN2zbqKI",
    "outputId": "fb1db861-17e2-44f4-a5ca-bff8f45c22e3"
   },
   "outputs": [
    {
     "data": {
      "text/plain": [
       "0    1\n",
       "1    0\n",
       "2    1\n",
       "3    1\n",
       "4    1\n",
       "Name: label, dtype: int64"
      ]
     },
     "execution_count": 49,
     "metadata": {
      "tags": []
     },
     "output_type": "execute_result"
    }
   ],
   "source": [
    "dataset['label'].head()"
   ]
  },
  {
   "cell_type": "code",
   "execution_count": 41,
   "metadata": {
    "colab": {
     "base_uri": "https://localhost:8080/",
     "height": 50
    },
    "colab_type": "code",
    "id": "-bsTmIXsY7WC",
    "outputId": "0f211e62-802e-438d-fd9a-beb0edd03722"
   },
   "outputs": [
    {
     "name": "stdout",
     "output_type": "stream",
     "text": [
      "(18285, 20)\n",
      "(18285,)\n"
     ]
    }
   ],
   "source": [
    "# Making train and test data, Both has to be in array matrix to compute\n",
    "X= embedded_docs\n",
    "Y= dataset['label']\n",
    "print(X.shape)\n",
    "print(Y.shape)"
   ]
  },
  {
   "cell_type": "code",
   "execution_count": 0,
   "metadata": {
    "colab": {},
    "colab_type": "code",
    "id": "4xG7oZJIZlbk"
   },
   "outputs": [],
   "source": [
    "from sklearn.model_selection import train_test_split\n",
    "X_train, X_test, y_train, y_test = train_test_split(X, Y, test_size=0.33, random_state=42)"
   ]
  },
  {
   "cell_type": "markdown",
   "metadata": {
    "colab_type": "text",
    "id": "9v5KVrWSZ6OV"
   },
   "source": [
    "**Model Training**"
   ]
  },
  {
   "cell_type": "code",
   "execution_count": 52,
   "metadata": {
    "colab": {
     "base_uri": "https://localhost:8080/",
     "height": 370
    },
    "colab_type": "code",
    "id": "5R3EJGfGZ31B",
    "outputId": "b9aa2784-9498-4aba-9694-e0ffca9be323"
   },
   "outputs": [
    {
     "name": "stdout",
     "output_type": "stream",
     "text": [
      "Epoch 1/10\n",
      "192/192 [==============================] - 2s 10ms/step - loss: 0.0027 - accuracy: 0.9994 - val_loss: 0.6940 - val_accuracy: 0.9077\n",
      "Epoch 2/10\n",
      "192/192 [==============================] - 2s 8ms/step - loss: 0.0032 - accuracy: 0.9990 - val_loss: 0.7131 - val_accuracy: 0.9089\n",
      "Epoch 3/10\n",
      "192/192 [==============================] - 2s 8ms/step - loss: 0.0023 - accuracy: 0.9994 - val_loss: 0.5532 - val_accuracy: 0.9072\n",
      "Epoch 4/10\n",
      "192/192 [==============================] - 1s 8ms/step - loss: 0.0016 - accuracy: 0.9995 - val_loss: 0.7826 - val_accuracy: 0.9034\n",
      "Epoch 5/10\n",
      "192/192 [==============================] - 2s 8ms/step - loss: 0.0075 - accuracy: 0.9981 - val_loss: 0.6925 - val_accuracy: 0.9100\n",
      "Epoch 6/10\n",
      "192/192 [==============================] - 2s 8ms/step - loss: 0.0031 - accuracy: 0.9993 - val_loss: 0.7443 - val_accuracy: 0.9042\n",
      "Epoch 7/10\n",
      "192/192 [==============================] - 2s 8ms/step - loss: 0.0013 - accuracy: 0.9998 - val_loss: 0.7962 - val_accuracy: 0.9044\n",
      "Epoch 8/10\n",
      "192/192 [==============================] - 2s 8ms/step - loss: 0.0017 - accuracy: 0.9996 - val_loss: 0.7687 - val_accuracy: 0.9109\n",
      "Epoch 9/10\n",
      "192/192 [==============================] - 2s 8ms/step - loss: 0.0024 - accuracy: 0.9990 - val_loss: 0.7238 - val_accuracy: 0.9026\n",
      "Epoch 10/10\n",
      "192/192 [==============================] - 2s 8ms/step - loss: 0.0063 - accuracy: 0.9979 - val_loss: 0.5323 - val_accuracy: 0.9057\n"
     ]
    },
    {
     "data": {
      "text/plain": [
       "<tensorflow.python.keras.callbacks.History at 0x7fd34deaa470>"
      ]
     },
     "execution_count": 52,
     "metadata": {
      "tags": []
     },
     "output_type": "execute_result"
    }
   ],
   "source": [
    "model.fit(X_train, y_train, batch_size=64, epochs=10, validation_data=(X_test, y_test))"
   ]
  },
  {
   "cell_type": "code",
   "execution_count": 50,
   "metadata": {
    "colab": {
     "base_uri": "https://localhost:8080/",
     "height": 87
    },
    "colab_type": "code",
    "id": "nPmd7hoLaZiZ",
    "outputId": "e0f0512b-48ca-4622-fabe-f1168595a954"
   },
   "outputs": [
    {
     "name": "stdout",
     "output_type": "stream",
     "text": [
      "WARNING:tensorflow:From <ipython-input-50-d23ae983abaa>:2: Sequential.predict_classes (from tensorflow.python.keras.engine.sequential) is deprecated and will be removed after 2021-01-01.\n",
      "Instructions for updating:\n",
      "Please use instead:* `np.argmax(model.predict(x), axis=-1)`,   if your model does multi-class classification   (e.g. if it uses a `softmax` last-layer activation).* `(model.predict(x) > 0.5).astype(\"int32\")`,   if your model does binary classification   (e.g. if it uses a `sigmoid` last-layer activation).\n"
     ]
    }
   ],
   "source": [
    "## Above accuracy is 1.0 so it is cleary overfit the model\n",
    "pred= model.predict_classes(X_test)"
   ]
  },
  {
   "cell_type": "code",
   "execution_count": 53,
   "metadata": {
    "colab": {
     "base_uri": "https://localhost:8080/",
     "height": 67
    },
    "colab_type": "code",
    "id": "-_OxkPGsbFQl",
    "outputId": "0b5a8e17-9b4d-497c-fc6b-6207b92ae327"
   },
   "outputs": [
    {
     "name": "stdout",
     "output_type": "stream",
     "text": [
      "0.912013256006628\n",
      "[[3094  325]\n",
      " [ 206 2410]]\n"
     ]
    }
   ],
   "source": [
    "from sklearn.metrics import accuracy_score, confusion_matrix, classification_report\n",
    "\n",
    "score= accuracy_score(y_test, pred)\n",
    "print(score)\n",
    "print(confusion_matrix(y_test, pred))"
   ]
  },
  {
   "cell_type": "markdown",
   "metadata": {
    "colab_type": "text",
    "id": "fHrW6cDldFYB"
   },
   "source": [
    "**Adding Dropout Layer to avoid overfitting**"
   ]
  },
  {
   "cell_type": "code",
   "execution_count": 0,
   "metadata": {
    "colab": {},
    "colab_type": "code",
    "id": "iNmQJLYxbiC_"
   },
   "outputs": [],
   "source": [
    "from tensorflow.keras.layers import Dropout\n",
    "\n",
    "embedding_features_value= 40\n",
    "model1=Sequential()\n",
    "model1.add(Embedding(voc_size, embedding_features_value, input_length= sent_length))\n",
    "model1.add(Dropout(0.3))\n",
    "model1.add(LSTM(100))\n",
    "model1.add(Dropout(0.3))\n",
    "model1.add(Dense(1, activation='sigmoid'))\n",
    "model1.compile(loss='binary_crossentropy',optimizer='adam',metrics=['accuracy'])"
   ]
  },
  {
   "cell_type": "code",
   "execution_count": 66,
   "metadata": {
    "colab": {
     "base_uri": "https://localhost:8080/",
     "height": 370
    },
    "colab_type": "code",
    "id": "NpH6i3f3fZB_",
    "outputId": "d3251a6e-9a86-4b36-952f-0ad93bdff304"
   },
   "outputs": [
    {
     "name": "stdout",
     "output_type": "stream",
     "text": [
      "Epoch 1/10\n",
      "192/192 [==============================] - 2s 8ms/step - loss: 0.0071 - accuracy: 0.9972 - val_loss: 0.5801 - val_accuracy: 0.8974\n",
      "Epoch 2/10\n",
      "192/192 [==============================] - 2s 8ms/step - loss: 0.0100 - accuracy: 0.9961 - val_loss: 0.5445 - val_accuracy: 0.9109\n",
      "Epoch 3/10\n",
      "192/192 [==============================] - 2s 9ms/step - loss: 0.0057 - accuracy: 0.9978 - val_loss: 0.6629 - val_accuracy: 0.9027\n",
      "Epoch 4/10\n",
      "192/192 [==============================] - 2s 8ms/step - loss: 0.0068 - accuracy: 0.9981 - val_loss: 0.6505 - val_accuracy: 0.9100\n",
      "Epoch 5/10\n",
      "192/192 [==============================] - 2s 8ms/step - loss: 0.0066 - accuracy: 0.9984 - val_loss: 0.6616 - val_accuracy: 0.9074\n",
      "Epoch 6/10\n",
      "192/192 [==============================] - 2s 9ms/step - loss: 0.0046 - accuracy: 0.9982 - val_loss: 0.6887 - val_accuracy: 0.8969\n",
      "Epoch 7/10\n",
      "192/192 [==============================] - 2s 8ms/step - loss: 0.0028 - accuracy: 0.9993 - val_loss: 0.7874 - val_accuracy: 0.9022\n",
      "Epoch 8/10\n",
      "192/192 [==============================] - 2s 8ms/step - loss: 0.0025 - accuracy: 0.9991 - val_loss: 0.7077 - val_accuracy: 0.9019\n",
      "Epoch 9/10\n",
      "192/192 [==============================] - 2s 8ms/step - loss: 0.0021 - accuracy: 0.9993 - val_loss: 0.7434 - val_accuracy: 0.9017\n",
      "Epoch 10/10\n",
      "192/192 [==============================] - 2s 8ms/step - loss: 0.0031 - accuracy: 0.9991 - val_loss: 0.7441 - val_accuracy: 0.9065\n"
     ]
    },
    {
     "data": {
      "text/plain": [
       "<tensorflow.python.keras.callbacks.History at 0x7fd34c5e4c18>"
      ]
     },
     "execution_count": 66,
     "metadata": {
      "tags": []
     },
     "output_type": "execute_result"
    }
   ],
   "source": [
    "model1.fit(X_train, y_train, batch_size=64, epochs=10, validation_data=(X_test, y_test))"
   ]
  },
  {
   "cell_type": "code",
   "execution_count": 0,
   "metadata": {
    "colab": {},
    "colab_type": "code",
    "id": "vyN0RjMYdxqy"
   },
   "outputs": [],
   "source": [
    "# Predicting on test data\n",
    "\n",
    "pred= model1.predict_classes(X_test)"
   ]
  },
  {
   "cell_type": "code",
   "execution_count": 68,
   "metadata": {
    "colab": {
     "base_uri": "https://localhost:8080/",
     "height": 67
    },
    "colab_type": "code",
    "id": "sMEuzCHUfMEu",
    "outputId": "79067e0f-828a-473c-b2b5-b9d61a2a94e1"
   },
   "outputs": [
    {
     "name": "stdout",
     "output_type": "stream",
     "text": [
      "0.9065451532725767\n",
      "[[3091  328]\n",
      " [ 236 2380]]\n"
     ]
    }
   ],
   "source": [
    "score= accuracy_score(y_test, pred)\n",
    "print(score)\n",
    "print(confusion_matrix(y_test, pred))"
   ]
  },
  {
   "cell_type": "code",
   "execution_count": 69,
   "metadata": {
    "colab": {
     "base_uri": "https://localhost:8080/",
     "height": 168
    },
    "colab_type": "code",
    "id": "_j7TqhXGfRAF",
    "outputId": "32782e8d-6a44-474f-baff-4e6b1b9f8465"
   },
   "outputs": [
    {
     "name": "stdout",
     "output_type": "stream",
     "text": [
      "              precision    recall  f1-score   support\n",
      "\n",
      "           0       0.93      0.90      0.92      3419\n",
      "           1       0.88      0.91      0.89      2616\n",
      "\n",
      "    accuracy                           0.91      6035\n",
      "   macro avg       0.90      0.91      0.91      6035\n",
      "weighted avg       0.91      0.91      0.91      6035\n",
      "\n"
     ]
    }
   ],
   "source": [
    "# classification report\n",
    "\n",
    "print(classification_report(y_test, pred))"
   ]
  },
  {
   "cell_type": "code",
   "execution_count": 0,
   "metadata": {
    "colab": {},
    "colab_type": "code",
    "id": "MRQroOvyfvth"
   },
   "outputs": [],
   "source": []
  }
 ],
 "metadata": {
  "accelerator": "GPU",
  "colab": {
   "name": "Fake-news_classifier-LSTM.ipynb",
   "provenance": []
  },
  "kernelspec": {
   "display_name": "Python 3",
   "language": "python",
   "name": "python3"
  },
  "language_info": {
   "codemirror_mode": {
    "name": "ipython",
    "version": 3
   },
   "file_extension": ".py",
   "mimetype": "text/x-python",
   "name": "python",
   "nbconvert_exporter": "python",
   "pygments_lexer": "ipython3",
   "version": "3.7.6"
  }
 },
 "nbformat": 4,
 "nbformat_minor": 1
}
